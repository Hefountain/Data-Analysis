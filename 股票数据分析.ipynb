{
 "cells": [
  {
   "cell_type": "markdown",
   "metadata": {},
   "source": [
    "## 描述统计学案例代码：股票数据分析"
   ]
  },
  {
   "cell_type": "markdown",
   "metadata": {},
   "source": [
    "先使用conda安装：数据分析pandas包，和互联数据获取包pandas-datareader"
   ]
  },
  {
   "cell_type": "code",
   "execution_count": 2,
   "metadata": {},
   "outputs": [
    {
     "ename": "ImportError",
     "evalue": "No module named pandas_datareader",
     "output_type": "error",
     "traceback": [
      "\u001b[0;31m---------------------------------------------------------------------------\u001b[0m",
      "\u001b[0;31mImportError\u001b[0m                               Traceback (most recent call last)",
      "\u001b[0;32m<ipython-input-2-bee8c7c45405>\u001b[0m in \u001b[0;36m<module>\u001b[0;34m()\u001b[0m\n\u001b[1;32m      8\u001b[0m \u001b[0;31m而\u001b[0m\u001b[0;31m非\u001b[0m\u001b[0;31m在\u001b[0m\u001b[0mpip\u001b[0m\u001b[0;31m安\u001b[0m\u001b[0;31m装\u001b[0m\u001b[0;31m时\u001b[0m\u001b[0;31m使\u001b[0m\u001b[0;31m用\u001b[0m\u001b[0;31m的\u001b[0m\u001b[0;31m连\u001b[0m\u001b[0;31m接\u001b[0m\u001b[0;31m符\u001b[0m\u001b[0;31m‘\u001b[0m\u001b[0;34m-\u001b[0m\u001b[0;31m’\u001b[0m\u001b[0;34m\u001b[0m\u001b[0m\n\u001b[1;32m      9\u001b[0m '''\n\u001b[0;32m---> 10\u001b[0;31m \u001b[0;32mfrom\u001b[0m \u001b[0mpandas_datareader\u001b[0m \u001b[0;32mimport\u001b[0m \u001b[0mdata\u001b[0m\u001b[0;34m\u001b[0m\u001b[0m\n\u001b[0m",
      "\u001b[0;31mImportError\u001b[0m: No module named pandas_datareader"
     ]
    }
   ],
   "source": [
    "#导入包\n",
    "#数据分析包\n",
    "import pandas as pd\n",
    "\n",
    "'''\n",
    "互联数据获取包\n",
    "注意：这里的pandas_datareader中使用的是下划线'_'，\n",
    "而非在pip安装时使用的连接符‘-’\n",
    "'''\n",
    "from pandas_datareader import data"
   ]
  },
  {
   "cell_type": "code",
   "execution_count": null,
   "metadata": {},
   "outputs": [],
   "source": [
    "# 存在的问题：由于是从国外获取股票数据，会由于网络不稳定，获取数据失败，多运行几次这个cell就好了\n",
    "'''\n",
    "获取国内股票数据的方式是：“股票代码”+“对应股市”（港股为.hk，A股为.ss）\n",
    "例如腾讯是港股是：0700.hk\n",
    "'''\n",
    "#字典：6家公司的股票\n",
    "gafataDict={'谷歌':'GOOG','亚马逊':'AMZN','Facebook':'FB',\n",
    "            '苹果':'AAPL','阿里巴巴':'BABA','腾讯':'0700.hk'}"
   ]
  },
  {
   "cell_type": "markdown",
   "metadata": {},
   "source": [
    "## 阿里巴巴"
   ]
  },
  {
   "cell_type": "code",
   "execution_count": null,
   "metadata": {},
   "outputs": [],
   "source": [
    "'''\n",
    "get_data_yahoo表示从雅虎数据源获取股票数据\n",
    "雅虎股票数据源文档：http://pandas-datareader.readthedocs.io/en/latest/remote_data.html#yahoo-finance\n",
    "'''\n",
    "# 获取哪段时间范围的股票数据\n",
    "start_date = '2017-01-01'\n",
    "end_date = '2018-01-01'\n",
    "#获取阿里巴巴股票数据\n",
    "babaDf=data.get_data_yahoo(gafataDict['阿里巴巴'],start_date, end_date)"
   ]
  },
  {
   "cell_type": "code",
   "execution_count": null,
   "metadata": {},
   "outputs": [],
   "source": [
    "'''\n",
    "每日股票价位信息\n",
    "Open:开盘价\n",
    "High:最高加\n",
    "Low：最低价\n",
    "Close：收盘价\n",
    "下面我们主要关注每日的收盘价\n",
    "'''\n",
    "#查看前5行数据\n",
    "babaDf.head()"
   ]
  },
  {
   "cell_type": "code",
   "execution_count": null,
   "metadata": {},
   "outputs": [],
   "source": [
    "babaDf.dtypes"
   ]
  },
  {
   "cell_type": "code",
   "execution_count": null,
   "metadata": {},
   "outputs": [],
   "source": [
    "#查看数据集描述统计信息\n",
    "babaDf.describe()"
   ]
  },
  {
   "cell_type": "code",
   "execution_count": null,
   "metadata": {},
   "outputs": [],
   "source": [
    "'''\n",
    "定义函数\n",
    "函数功能：计算股票涨跌幅=（现在股价-买入价格）/买入价格\n",
    "输入参数：column是收盘价这一列的数据\n",
    "返回数据：涨跌幅\n",
    "'''\n",
    "def change(column):\n",
    "    #买入价格\n",
    "    buyPrice=column[0]\n",
    "    #现在股价\n",
    "    #总共251条数据，序号是从0开始的，所以最后一条数据的序号是251-1\n",
    "    curPrice=column[251-1]\n",
    "    #累计涨跌幅\n",
    "    priceChange=(curPrice-buyPrice)/buyPrice\n",
    "    #判断股票是上涨，还是下跌\n",
    "    if(priceChange>0):\n",
    "        print('股票累计上涨=',priceChange)\n",
    "    elif(priceChange<0):\n",
    "        print('股票累计没有变化=',priceChange)\n",
    "    else:\n",
    "        print('股票累计下跌=',priceChange)\n",
    "    \n",
    "    #返回数据\n",
    "    return priceChange"
   ]
  },
  {
   "cell_type": "code",
   "execution_count": null,
   "metadata": {},
   "outputs": [],
   "source": [
    "#获取收盘价Close这一列的数据\n",
    "closeCol=babaDf['Close']\n",
    "#调用函数，获取涨跌幅\n",
    "babaChange=change(closeCol)"
   ]
  },
  {
   "cell_type": "code",
   "execution_count": null,
   "metadata": {},
   "outputs": [],
   "source": [
    "'''\n",
    "可以在conda中使用命令安装可视化包matplotlib，命令如下：\n",
    "conda install matplotlib\n",
    "'''\n",
    "#导入绘图包\n",
    "import matplotlib.pyplot as plt"
   ]
  },
  {
   "cell_type": "code",
   "execution_count": null,
   "metadata": {},
   "outputs": [],
   "source": [
    "#使用收盘价Close这一列数据绘制\n",
    "plt.plot(babaDf['Close'])\n",
    "#图片标题\n",
    "plt.title('BABA')\n",
    "#显示网格\n",
    "plt.grid(True)\n",
    "#显示图片\n",
    "plt.show()"
   ]
  },
  {
   "cell_type": "code",
   "execution_count": null,
   "metadata": {},
   "outputs": [],
   "source": [
    "'''\n",
    "这快代码和课程中不一样，因为有的朋友反映绘制出的横轴时间是数值，所以用下面最新的代码代替。\n",
    "绘制股票走势\n",
    "横轴x是股票时间\n",
    "（babaDf.index是Pandas二维数据Dataframe的行索引，会在下次节课中详细讲，这里大概了解即可）\n",
    "纵轴y是收盘价Close这一列数据\n",
    "TODO 图片美化先不用管，我们在课程《数据分析可视化》课程中详细学习\n",
    "'''\n",
    "babaDf.plot(x=babaDf.index,y='Close')\n",
    "#图片标题\n",
    "plt.title('BABA')\n",
    "#显示网格\n",
    "plt.grid(True)\n",
    "plt.show()"
   ]
  },
  {
   "cell_type": "markdown",
   "metadata": {},
   "source": [
    "## 亚马逊"
   ]
  },
  {
   "cell_type": "code",
   "execution_count": null,
   "metadata": {},
   "outputs": [],
   "source": [
    "amazDf=data.get_data_yahoo(gafataDict['亚马逊'],start_date, end_date)"
   ]
  },
  {
   "cell_type": "code",
   "execution_count": null,
   "metadata": {},
   "outputs": [],
   "source": [
    "amazDf.describe()"
   ]
  },
  {
   "cell_type": "markdown",
   "metadata": {},
   "source": [
    "##  Facebook"
   ]
  },
  {
   "cell_type": "code",
   "execution_count": null,
   "metadata": {},
   "outputs": [],
   "source": [
    "facebookDf=data.get_data_yahoo(gafataDict['Facebook'],start_date, end_date)\n",
    "facebookDf.describe()"
   ]
  },
  {
   "cell_type": "markdown",
   "metadata": {},
   "source": [
    "## 苹果"
   ]
  },
  {
   "cell_type": "code",
   "execution_count": null,
   "metadata": {},
   "outputs": [],
   "source": [
    "#获取苹果股票数据\n",
    "appleDf=data.get_data_yahoo(gafataDict['苹果'],start_date, end_date)\n",
    "appleDf.describe()"
   ]
  },
  {
   "cell_type": "markdown",
   "metadata": {},
   "source": [
    "## 谷歌"
   ]
  },
  {
   "cell_type": "code",
   "execution_count": null,
   "metadata": {},
   "outputs": [],
   "source": [
    "googDf=data.get_data_yahoo(gafataDict['谷歌'],start_date, end_date)\n",
    "googDf.describe()"
   ]
  },
  {
   "cell_type": "markdown",
   "metadata": {},
   "source": [
    "## 腾讯"
   ]
  },
  {
   "cell_type": "code",
   "execution_count": null,
   "metadata": {},
   "outputs": [],
   "source": [
    "hkDf=data.get_data_yahoo(gafataDict['腾讯'],start_date, end_date)\n",
    "hkDf.describe()"
   ]
  }
 ],
 "metadata": {
  "kernelspec": {
   "display_name": "Python 2",
   "language": "python",
   "name": "python2"
  },
  "language_info": {
   "codemirror_mode": {
    "name": "ipython",
    "version": 2
   },
   "file_extension": ".py",
   "mimetype": "text/x-python",
   "name": "python",
   "nbconvert_exporter": "python",
   "pygments_lexer": "ipython2",
   "version": "2.7.10"
  }
 },
 "nbformat": 4,
 "nbformat_minor": 2
}
